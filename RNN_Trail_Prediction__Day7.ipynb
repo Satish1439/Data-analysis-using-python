{
  "nbformat": 4,
  "nbformat_minor": 0,
  "metadata": {
    "colab": {
      "provenance": []
    },
    "kernelspec": {
      "name": "python3",
      "display_name": "Python 3"
    },
    "language_info": {
      "name": "python"
    }
  },
  "cells": [
    {
      "cell_type": "code",
      "execution_count": null,
      "metadata": {
        "id": "M8oy9k_SUw5g"
      },
      "outputs": [],
      "source": [
        "import numpy as np\n",
        "from keras.models import Sequential\n",
        "from keras.layers import SimpleRNN,Dense,Embedding\n",
        "from keras.preprocessing.text import Tokenizer\n",
        "from keras.preprocessing.sequence import pad_sequences\n",
        "from keras.utils import to_categorical"
      ]
    },
    {
      "cell_type": "code",
      "source": [
        "#Generating some examples sequential data\n",
        "sentences=['I love learning','I love python','I hate school','Recurrent Neural Networks are powerful']"
      ],
      "metadata": {
        "id": "xqdd3eajVtKw"
      },
      "execution_count": null,
      "outputs": []
    },
    {
      "cell_type": "code",
      "source": [
        "#Tokenizing the wordds\n",
        "tokenizer=Tokenizer()\n",
        "tokenizer.fit_on_texts(sentences)\n",
        "total_words=len(tokenizer.word_index)+1\n",
        "print(total_words)"
      ],
      "metadata": {
        "colab": {
          "base_uri": "https://localhost:8080/"
        },
        "id": "8DUDhle3W4kk",
        "outputId": "1526a8b5-d345-4b16-c64b-ee851654071e"
      },
      "execution_count": null,
      "outputs": [
        {
          "output_type": "stream",
          "name": "stdout",
          "text": [
            "12\n"
          ]
        }
      ]
    },
    {
      "cell_type": "code",
      "source": [],
      "metadata": {
        "id": "HTmiU6hzhcdH"
      },
      "execution_count": null,
      "outputs": []
    },
    {
      "cell_type": "code",
      "source": [
        "# Padding sequences for consistent input size\n",
        "max_sequence_length = max([len(seq) for seq in input_sequences])\n",
        "input_sequences = pad_sequences(input_sequences, maxlen=max_sequence_length, padding='pre')"
      ],
      "metadata": {
        "id": "-NFCTygMaGFQ"
      },
      "execution_count": null,
      "outputs": []
    },
    {
      "cell_type": "code",
      "source": [
        "input_sequences"
      ],
      "metadata": {
        "colab": {
          "base_uri": "https://localhost:8080/"
        },
        "id": "k80lvbXmabeT",
        "outputId": "6a8fb880-f549-4c41-99b3-678c421f97f3"
      },
      "execution_count": null,
      "outputs": [
        {
          "output_type": "execute_result",
          "data": {
            "text/plain": [
              "array([[ 0,  0,  0,  1,  2],\n",
              "       [ 0,  0,  1,  2,  3],\n",
              "       [ 0,  0,  0,  1,  2],\n",
              "       [ 0,  0,  1,  2,  4],\n",
              "       [ 0,  0,  0,  1,  5],\n",
              "       [ 0,  0,  1,  5,  6],\n",
              "       [ 0,  0,  0,  7,  8],\n",
              "       [ 0,  0,  7,  8,  9],\n",
              "       [ 0,  7,  8,  9, 10],\n",
              "       [ 7,  8,  9, 10, 11]], dtype=int32)"
            ]
          },
          "metadata": {},
          "execution_count": 10
        }
      ]
    },
    {
      "cell_type": "code",
      "source": [
        "# Creating input and output data\n",
        "X ,y= input_sequences[:, :-1], input_sequences[:, -1]\n",
        "y = to_categorical(y, num_classes=total_words)"
      ],
      "metadata": {
        "id": "vFacikTyaWlI"
      },
      "execution_count": null,
      "outputs": []
    },
    {
      "cell_type": "code",
      "source": [
        "# Building a simple RNN model\n",
        "model = Sequential()\n",
        "model.add(Embedding(input_dim=total_words, output_dim=50, input_length=max_sequence_length-1))\n",
        "model.add(SimpleRNN(100, return_sequences=True))\n",
        "model.add(SimpleRNN(100))\n",
        "model.add(Dense(total_words, activation='softmax'))"
      ],
      "metadata": {
        "id": "Zade0-u_afqh"
      },
      "execution_count": null,
      "outputs": []
    },
    {
      "cell_type": "code",
      "source": [
        "#compiling the model\n",
        "model.compile(optimizer='adam',loss='categorical_crossentropy',metrics=['accuracy'])"
      ],
      "metadata": {
        "id": "yJzAXslMarF1"
      },
      "execution_count": null,
      "outputs": []
    },
    {
      "cell_type": "code",
      "source": [
        "#training the model\n",
        "model.fit(X , y, epochs=50, verbose=2)"
      ],
      "metadata": {
        "colab": {
          "base_uri": "https://localhost:8080/"
        },
        "id": "auYEEFb_bkmB",
        "outputId": "5973dc0a-d327-44a9-fb36-5bf9f281aeda"
      },
      "execution_count": null,
      "outputs": [
        {
          "output_type": "stream",
          "name": "stdout",
          "text": [
            "Epoch 1/50\n",
            "1/1 - 2s - loss: 2.4916 - accuracy: 0.1000 - 2s/epoch - 2s/step\n",
            "Epoch 2/50\n",
            "1/1 - 0s - loss: 2.3890 - accuracy: 0.5000 - 10ms/epoch - 10ms/step\n",
            "Epoch 3/50\n",
            "1/1 - 0s - loss: 2.2949 - accuracy: 0.4000 - 15ms/epoch - 15ms/step\n",
            "Epoch 4/50\n",
            "1/1 - 0s - loss: 2.2054 - accuracy: 0.4000 - 11ms/epoch - 11ms/step\n",
            "Epoch 5/50\n",
            "1/1 - 0s - loss: 2.1188 - accuracy: 0.4000 - 10ms/epoch - 10ms/step\n",
            "Epoch 6/50\n",
            "1/1 - 0s - loss: 2.0346 - accuracy: 0.4000 - 10ms/epoch - 10ms/step\n",
            "Epoch 7/50\n",
            "1/1 - 0s - loss: 1.9521 - accuracy: 0.4000 - 9ms/epoch - 9ms/step\n",
            "Epoch 8/50\n",
            "1/1 - 0s - loss: 1.8698 - accuracy: 0.4000 - 9ms/epoch - 9ms/step\n",
            "Epoch 9/50\n",
            "1/1 - 0s - loss: 1.7859 - accuracy: 0.4000 - 10ms/epoch - 10ms/step\n",
            "Epoch 10/50\n",
            "1/1 - 0s - loss: 1.7000 - accuracy: 0.4000 - 9ms/epoch - 9ms/step\n",
            "Epoch 11/50\n",
            "1/1 - 0s - loss: 1.6146 - accuracy: 0.5000 - 9ms/epoch - 9ms/step\n",
            "Epoch 12/50\n",
            "1/1 - 0s - loss: 1.5333 - accuracy: 0.6000 - 9ms/epoch - 9ms/step\n",
            "Epoch 13/50\n",
            "1/1 - 0s - loss: 1.4589 - accuracy: 0.6000 - 10ms/epoch - 10ms/step\n",
            "Epoch 14/50\n",
            "1/1 - 0s - loss: 1.3907 - accuracy: 0.6000 - 10ms/epoch - 10ms/step\n",
            "Epoch 15/50\n",
            "1/1 - 0s - loss: 1.3262 - accuracy: 0.6000 - 10ms/epoch - 10ms/step\n",
            "Epoch 16/50\n",
            "1/1 - 0s - loss: 1.2645 - accuracy: 0.6000 - 10ms/epoch - 10ms/step\n",
            "Epoch 17/50\n",
            "1/1 - 0s - loss: 1.2069 - accuracy: 0.7000 - 10ms/epoch - 10ms/step\n",
            "Epoch 18/50\n",
            "1/1 - 0s - loss: 1.1561 - accuracy: 0.7000 - 11ms/epoch - 11ms/step\n",
            "Epoch 19/50\n",
            "1/1 - 0s - loss: 1.1118 - accuracy: 0.7000 - 10ms/epoch - 10ms/step\n",
            "Epoch 20/50\n",
            "1/1 - 0s - loss: 1.0707 - accuracy: 0.7000 - 15ms/epoch - 15ms/step\n",
            "Epoch 21/50\n",
            "1/1 - 0s - loss: 1.0301 - accuracy: 0.7000 - 15ms/epoch - 15ms/step\n",
            "Epoch 22/50\n",
            "1/1 - 0s - loss: 0.9900 - accuracy: 0.6000 - 12ms/epoch - 12ms/step\n",
            "Epoch 23/50\n",
            "1/1 - 0s - loss: 0.9513 - accuracy: 0.6000 - 9ms/epoch - 9ms/step\n",
            "Epoch 24/50\n",
            "1/1 - 0s - loss: 0.9139 - accuracy: 0.7000 - 10ms/epoch - 10ms/step\n",
            "Epoch 25/50\n",
            "1/1 - 0s - loss: 0.8775 - accuracy: 0.7000 - 10ms/epoch - 10ms/step\n",
            "Epoch 26/50\n",
            "1/1 - 0s - loss: 0.8430 - accuracy: 0.7000 - 12ms/epoch - 12ms/step\n",
            "Epoch 27/50\n",
            "1/1 - 0s - loss: 0.8116 - accuracy: 0.7000 - 9ms/epoch - 9ms/step\n",
            "Epoch 28/50\n",
            "1/1 - 0s - loss: 0.7834 - accuracy: 0.7000 - 10ms/epoch - 10ms/step\n",
            "Epoch 29/50\n",
            "1/1 - 0s - loss: 0.7573 - accuracy: 0.7000 - 10ms/epoch - 10ms/step\n",
            "Epoch 30/50\n",
            "1/1 - 0s - loss: 0.7323 - accuracy: 0.7000 - 11ms/epoch - 11ms/step\n",
            "Epoch 31/50\n",
            "1/1 - 0s - loss: 0.7088 - accuracy: 0.7000 - 10ms/epoch - 10ms/step\n",
            "Epoch 32/50\n",
            "1/1 - 0s - loss: 0.6875 - accuracy: 0.8000 - 10ms/epoch - 10ms/step\n",
            "Epoch 33/50\n",
            "1/1 - 0s - loss: 0.6685 - accuracy: 0.8000 - 10ms/epoch - 10ms/step\n",
            "Epoch 34/50\n",
            "1/1 - 0s - loss: 0.6510 - accuracy: 0.8000 - 11ms/epoch - 11ms/step\n",
            "Epoch 35/50\n",
            "1/1 - 0s - loss: 0.6344 - accuracy: 0.8000 - 10ms/epoch - 10ms/step\n",
            "Epoch 36/50\n",
            "1/1 - 0s - loss: 0.6181 - accuracy: 0.8000 - 10ms/epoch - 10ms/step\n",
            "Epoch 37/50\n",
            "1/1 - 0s - loss: 0.6024 - accuracy: 0.8000 - 10ms/epoch - 10ms/step\n",
            "Epoch 38/50\n",
            "1/1 - 0s - loss: 0.5874 - accuracy: 0.8000 - 10ms/epoch - 10ms/step\n",
            "Epoch 39/50\n",
            "1/1 - 0s - loss: 0.5732 - accuracy: 0.8000 - 9ms/epoch - 9ms/step\n",
            "Epoch 40/50\n",
            "1/1 - 0s - loss: 0.5596 - accuracy: 0.8000 - 10ms/epoch - 10ms/step\n",
            "Epoch 41/50\n",
            "1/1 - 0s - loss: 0.5462 - accuracy: 0.8000 - 10ms/epoch - 10ms/step\n",
            "Epoch 42/50\n",
            "1/1 - 0s - loss: 0.5331 - accuracy: 0.8000 - 12ms/epoch - 12ms/step\n",
            "Epoch 43/50\n",
            "1/1 - 0s - loss: 0.5202 - accuracy: 0.8000 - 11ms/epoch - 11ms/step\n",
            "Epoch 44/50\n",
            "1/1 - 0s - loss: 0.5078 - accuracy: 0.8000 - 10ms/epoch - 10ms/step\n",
            "Epoch 45/50\n",
            "1/1 - 0s - loss: 0.4960 - accuracy: 0.8000 - 12ms/epoch - 12ms/step\n",
            "Epoch 46/50\n",
            "1/1 - 0s - loss: 0.4847 - accuracy: 0.8000 - 9ms/epoch - 9ms/step\n",
            "Epoch 47/50\n",
            "1/1 - 0s - loss: 0.4738 - accuracy: 0.8000 - 10ms/epoch - 10ms/step\n",
            "Epoch 48/50\n",
            "1/1 - 0s - loss: 0.4631 - accuracy: 0.8000 - 10ms/epoch - 10ms/step\n",
            "Epoch 49/50\n",
            "1/1 - 0s - loss: 0.4530 - accuracy: 0.8000 - 12ms/epoch - 12ms/step\n",
            "Epoch 50/50\n",
            "1/1 - 0s - loss: 0.4434 - accuracy: 0.8000 - 11ms/epoch - 11ms/step\n"
          ]
        },
        {
          "output_type": "execute_result",
          "data": {
            "text/plain": [
              "<keras.src.callbacks.History at 0x7becb83487c0>"
            ]
          },
          "metadata": {},
          "execution_count": 27
        }
      ]
    },
    {
      "cell_type": "code",
      "source": [
        "\n",
        "# Generating text using the trained model\n",
        "seed_text = input(\"Enter the starting word: \")\n",
        "next_words = int(input(\"Enter how many words to predict: \"))\n",
        "\n",
        "for _ in range(next_words):\n",
        "    tokenized_seed = tokenizer.texts_to_sequences([seed_text])[0]\n",
        "    tokenized_seed = pad_sequences([tokenized_seed], maxlen=max_sequence_length-1, padding='pre')\n",
        "    predicted_word_index = np.argmax(model.predict(tokenized_seed), axis=-1)\n",
        "    predicted_word = tokenizer.index_word[predicted_word_index[0]]\n",
        "    seed_text += \" \" + predicted_word\n",
        "\n",
        "print(seed_text)"
      ],
      "metadata": {
        "colab": {
          "base_uri": "https://localhost:8080/"
        },
        "id": "gYS72RZVcF_W",
        "outputId": "f033dfd3-485a-4791-d9cc-cc9143808401"
      },
      "execution_count": null,
      "outputs": [
        {
          "output_type": "stream",
          "name": "stdout",
          "text": [
            "Enter the starting word: qyqaihsgusjls jakagxi\n",
            "Enter how many words to predict: 9\n",
            "1/1 [==============================] - 0s 21ms/step\n",
            "1/1 [==============================] - 0s 20ms/step\n",
            "1/1 [==============================] - 0s 22ms/step\n",
            "1/1 [==============================] - 0s 25ms/step\n",
            "1/1 [==============================] - 0s 20ms/step\n",
            "1/1 [==============================] - 0s 20ms/step\n",
            "1/1 [==============================] - 0s 21ms/step\n",
            "1/1 [==============================] - 0s 21ms/step\n",
            "1/1 [==============================] - 0s 20ms/step\n",
            "qyqaihsgusjls jakagxi neural hate school are are powerful powerful powerful powerful\n"
          ]
        }
      ]
    },
    {
      "cell_type": "code",
      "source": [
        "import pandas as pd"
      ],
      "metadata": {
        "id": "ipG_dMIGeNMk"
      },
      "execution_count": null,
      "outputs": []
    },
    {
      "cell_type": "code",
      "source": [
        "df=pd.read_csv('/content/Earth.txt')\n",
        "df"
      ],
      "metadata": {
        "colab": {
          "base_uri": "https://localhost:8080/",
          "height": 292
        },
        "id": "auegm5w-e2X5",
        "outputId": "2a17a1fa-807c-41f6-9527-95ee012d9d45"
      },
      "execution_count": null,
      "outputs": [
        {
          "output_type": "execute_result",
          "data": {
            "text/plain": [
              "Empty DataFrame\n",
              "Columns: [Earth is the third planet from the Sun and the only astronomical object known to harbor life. This is enabled by Earth being a water world,  the only one in the Solar System sustaining liquid surface water. Almost all of Earth's water is contained in its global ocean,  covering 70.8% of Earth's crust. The remaining 29.2% of Earth's crust is land,  most of which is located in the form of continental landmasses within one hemisphere,  Earth's land hemisphere. Most of Earth's land is somewhat humid and covered by vegetation,  while large sheets of ice at Earth's polar deserts retain more water than Earth's groundwater,  lakes,  rivers and atmospheric water combined. Earth's crust consists of slowly moving tectonic plates,  which interact to produce mountain ranges,  volcanoes,  and earthquakes. Earth has a liquid outer core that generates a magnetosphere capable of deflecting most of the destructive solar winds and cosmic radiation.]\n",
              "Index: []"
            ],
            "text/html": [
              "\n",
              "  <div id=\"df-5d27eaec-30a8-4e37-89e3-9e74e8d5b4fe\" class=\"colab-df-container\">\n",
              "    <div>\n",
              "<style scoped>\n",
              "    .dataframe tbody tr th:only-of-type {\n",
              "        vertical-align: middle;\n",
              "    }\n",
              "\n",
              "    .dataframe tbody tr th {\n",
              "        vertical-align: top;\n",
              "    }\n",
              "\n",
              "    .dataframe thead th {\n",
              "        text-align: right;\n",
              "    }\n",
              "</style>\n",
              "<table border=\"1\" class=\"dataframe\">\n",
              "  <thead>\n",
              "    <tr style=\"text-align: right;\">\n",
              "      <th></th>\n",
              "      <th>Earth is the third planet from the Sun and the only astronomical object known to harbor life. This is enabled by Earth being a water world</th>\n",
              "      <th>the only one in the Solar System sustaining liquid surface water. Almost all of Earth's water is contained in its global ocean</th>\n",
              "      <th>covering 70.8% of Earth's crust. The remaining 29.2% of Earth's crust is land</th>\n",
              "      <th>most of which is located in the form of continental landmasses within one hemisphere</th>\n",
              "      <th>Earth's land hemisphere. Most of Earth's land is somewhat humid and covered by vegetation</th>\n",
              "      <th>while large sheets of ice at Earth's polar deserts retain more water than Earth's groundwater</th>\n",
              "      <th>lakes</th>\n",
              "      <th>rivers and atmospheric water combined. Earth's crust consists of slowly moving tectonic plates</th>\n",
              "      <th>which interact to produce mountain ranges</th>\n",
              "      <th>volcanoes</th>\n",
              "      <th>and earthquakes. Earth has a liquid outer core that generates a magnetosphere capable of deflecting most of the destructive solar winds and cosmic radiation.</th>\n",
              "    </tr>\n",
              "  </thead>\n",
              "  <tbody>\n",
              "  </tbody>\n",
              "</table>\n",
              "</div>\n",
              "    <div class=\"colab-df-buttons\">\n",
              "\n",
              "  <div class=\"colab-df-container\">\n",
              "    <button class=\"colab-df-convert\" onclick=\"convertToInteractive('df-5d27eaec-30a8-4e37-89e3-9e74e8d5b4fe')\"\n",
              "            title=\"Convert this dataframe to an interactive table.\"\n",
              "            style=\"display:none;\">\n",
              "\n",
              "  <svg xmlns=\"http://www.w3.org/2000/svg\" height=\"24px\" viewBox=\"0 -960 960 960\">\n",
              "    <path d=\"M120-120v-720h720v720H120Zm60-500h600v-160H180v160Zm220 220h160v-160H400v160Zm0 220h160v-160H400v160ZM180-400h160v-160H180v160Zm440 0h160v-160H620v160ZM180-180h160v-160H180v160Zm440 0h160v-160H620v160Z\"/>\n",
              "  </svg>\n",
              "    </button>\n",
              "\n",
              "  <style>\n",
              "    .colab-df-container {\n",
              "      display:flex;\n",
              "      gap: 12px;\n",
              "    }\n",
              "\n",
              "    .colab-df-convert {\n",
              "      background-color: #E8F0FE;\n",
              "      border: none;\n",
              "      border-radius: 50%;\n",
              "      cursor: pointer;\n",
              "      display: none;\n",
              "      fill: #1967D2;\n",
              "      height: 32px;\n",
              "      padding: 0 0 0 0;\n",
              "      width: 32px;\n",
              "    }\n",
              "\n",
              "    .colab-df-convert:hover {\n",
              "      background-color: #E2EBFA;\n",
              "      box-shadow: 0px 1px 2px rgba(60, 64, 67, 0.3), 0px 1px 3px 1px rgba(60, 64, 67, 0.15);\n",
              "      fill: #174EA6;\n",
              "    }\n",
              "\n",
              "    .colab-df-buttons div {\n",
              "      margin-bottom: 4px;\n",
              "    }\n",
              "\n",
              "    [theme=dark] .colab-df-convert {\n",
              "      background-color: #3B4455;\n",
              "      fill: #D2E3FC;\n",
              "    }\n",
              "\n",
              "    [theme=dark] .colab-df-convert:hover {\n",
              "      background-color: #434B5C;\n",
              "      box-shadow: 0px 1px 3px 1px rgba(0, 0, 0, 0.15);\n",
              "      filter: drop-shadow(0px 1px 2px rgba(0, 0, 0, 0.3));\n",
              "      fill: #FFFFFF;\n",
              "    }\n",
              "  </style>\n",
              "\n",
              "    <script>\n",
              "      const buttonEl =\n",
              "        document.querySelector('#df-5d27eaec-30a8-4e37-89e3-9e74e8d5b4fe button.colab-df-convert');\n",
              "      buttonEl.style.display =\n",
              "        google.colab.kernel.accessAllowed ? 'block' : 'none';\n",
              "\n",
              "      async function convertToInteractive(key) {\n",
              "        const element = document.querySelector('#df-5d27eaec-30a8-4e37-89e3-9e74e8d5b4fe');\n",
              "        const dataTable =\n",
              "          await google.colab.kernel.invokeFunction('convertToInteractive',\n",
              "                                                    [key], {});\n",
              "        if (!dataTable) return;\n",
              "\n",
              "        const docLinkHtml = 'Like what you see? Visit the ' +\n",
              "          '<a target=\"_blank\" href=https://colab.research.google.com/notebooks/data_table.ipynb>data table notebook</a>'\n",
              "          + ' to learn more about interactive tables.';\n",
              "        element.innerHTML = '';\n",
              "        dataTable['output_type'] = 'display_data';\n",
              "        await google.colab.output.renderOutput(dataTable, element);\n",
              "        const docLink = document.createElement('div');\n",
              "        docLink.innerHTML = docLinkHtml;\n",
              "        element.appendChild(docLink);\n",
              "      }\n",
              "    </script>\n",
              "  </div>\n",
              "\n",
              "\n",
              "  <div id=\"id_9b568ba6-917e-41f5-9ef8-8cfc81af65b6\">\n",
              "    <style>\n",
              "      .colab-df-generate {\n",
              "        background-color: #E8F0FE;\n",
              "        border: none;\n",
              "        border-radius: 50%;\n",
              "        cursor: pointer;\n",
              "        display: none;\n",
              "        fill: #1967D2;\n",
              "        height: 32px;\n",
              "        padding: 0 0 0 0;\n",
              "        width: 32px;\n",
              "      }\n",
              "\n",
              "      .colab-df-generate:hover {\n",
              "        background-color: #E2EBFA;\n",
              "        box-shadow: 0px 1px 2px rgba(60, 64, 67, 0.3), 0px 1px 3px 1px rgba(60, 64, 67, 0.15);\n",
              "        fill: #174EA6;\n",
              "      }\n",
              "\n",
              "      [theme=dark] .colab-df-generate {\n",
              "        background-color: #3B4455;\n",
              "        fill: #D2E3FC;\n",
              "      }\n",
              "\n",
              "      [theme=dark] .colab-df-generate:hover {\n",
              "        background-color: #434B5C;\n",
              "        box-shadow: 0px 1px 3px 1px rgba(0, 0, 0, 0.15);\n",
              "        filter: drop-shadow(0px 1px 2px rgba(0, 0, 0, 0.3));\n",
              "        fill: #FFFFFF;\n",
              "      }\n",
              "    </style>\n",
              "    <button class=\"colab-df-generate\" onclick=\"generateWithVariable('df')\"\n",
              "            title=\"Generate code using this dataframe.\"\n",
              "            style=\"display:none;\">\n",
              "\n",
              "  <svg xmlns=\"http://www.w3.org/2000/svg\" height=\"24px\"viewBox=\"0 0 24 24\"\n",
              "       width=\"24px\">\n",
              "    <path d=\"M7,19H8.4L18.45,9,17,7.55,7,17.6ZM5,21V16.75L18.45,3.32a2,2,0,0,1,2.83,0l1.4,1.43a1.91,1.91,0,0,1,.58,1.4,1.91,1.91,0,0,1-.58,1.4L9.25,21ZM18.45,9,17,7.55Zm-12,3A5.31,5.31,0,0,0,4.9,8.1,5.31,5.31,0,0,0,1,6.5,5.31,5.31,0,0,0,4.9,4.9,5.31,5.31,0,0,0,6.5,1,5.31,5.31,0,0,0,8.1,4.9,5.31,5.31,0,0,0,12,6.5,5.46,5.46,0,0,0,6.5,12Z\"/>\n",
              "  </svg>\n",
              "    </button>\n",
              "    <script>\n",
              "      (() => {\n",
              "      const buttonEl =\n",
              "        document.querySelector('#id_9b568ba6-917e-41f5-9ef8-8cfc81af65b6 button.colab-df-generate');\n",
              "      buttonEl.style.display =\n",
              "        google.colab.kernel.accessAllowed ? 'block' : 'none';\n",
              "\n",
              "      buttonEl.onclick = () => {\n",
              "        google.colab.notebook.generateWithVariable('df');\n",
              "      }\n",
              "      })();\n",
              "    </script>\n",
              "  </div>\n",
              "\n",
              "    </div>\n",
              "  </div>\n"
            ],
            "application/vnd.google.colaboratory.intrinsic+json": {
              "type": "dataframe",
              "variable_name": "df",
              "repr_error": "'str' object has no attribute 'empty'"
            }
          },
          "metadata": {},
          "execution_count": 32
        }
      ]
    },
    {
      "cell_type": "code",
      "source": [
        "#Tokenizing the wordds\n",
        "tokenizer=Tokenizer()\n",
        "tokenizer.fit_on_texts(df)\n",
        "total_words=len(tokenizer.word_index)+1\n",
        "print(total_words)"
      ],
      "metadata": {
        "colab": {
          "base_uri": "https://localhost:8080/"
        },
        "id": "x3RZyh67fCye",
        "outputId": "670f41c0-7e3b-46a8-f740-21e4e7b70e09"
      },
      "execution_count": null,
      "outputs": [
        {
          "output_type": "stream",
          "name": "stdout",
          "text": [
            "96\n"
          ]
        }
      ]
    },
    {
      "cell_type": "code",
      "source": [
        "# Creating input sequences and their corresponding next words\n",
        "input_sequences = []\n",
        "for sentence in df:\n",
        "    tokenized_sentence = tokenizer.texts_to_sequences([sentence])[0]\n",
        "    for i in range(1, len(tokenized_sentence)):\n",
        "        n_gram_sequence = tokenized_sentence[:i+1]\n",
        "        input_sequences.append(n_gram_sequence)\n",
        "input_sequences"
      ],
      "metadata": {
        "id": "BIX7c6Y6fQLh"
      },
      "execution_count": null,
      "outputs": []
    },
    {
      "cell_type": "code",
      "source": [
        "# Padding sequences for consistent input size\n",
        "max_sequence_length = max([len(seq) for seq in input_sequences])\n",
        "input_sequences = pad_sequences(input_sequences, maxlen=max_sequence_length, padding='pre')"
      ],
      "metadata": {
        "id": "qQZ5d7rkgYxq"
      },
      "execution_count": null,
      "outputs": []
    },
    {
      "cell_type": "code",
      "source": [
        "input_sequences\n"
      ],
      "metadata": {
        "colab": {
          "base_uri": "https://localhost:8080/"
        },
        "id": "Yzlmtb9ZgqxS",
        "outputId": "3160a463-7c24-413d-8c79-c1ce880563dc"
      },
      "execution_count": null,
      "outputs": [
        {
          "output_type": "execute_result",
          "data": {
            "text/plain": [
              "array([[ 0,  0,  0, ...,  0,  7,  4],\n",
              "       [ 0,  0,  0, ...,  7,  4,  2],\n",
              "       [ 0,  0,  0, ...,  4,  2, 21],\n",
              "       ...,\n",
              "       [ 0,  0,  0, ..., 17, 93,  5],\n",
              "       [ 0,  0,  0, ..., 93,  5, 94],\n",
              "       [ 0,  0,  5, ...,  5, 94, 95]], dtype=int32)"
            ]
          },
          "metadata": {},
          "execution_count": 37
        }
      ]
    },
    {
      "cell_type": "code",
      "source": [
        "# Creating input and output data\n",
        "X ,y= input_sequences[:, :-1], input_sequences[:, -1]\n",
        "y = to_categorical(y, num_classes=total_words)"
      ],
      "metadata": {
        "id": "uLMk8eWWgvvI"
      },
      "execution_count": null,
      "outputs": []
    },
    {
      "cell_type": "code",
      "source": [
        "# Building a simple RNN model\n",
        "model = Sequential()\n",
        "model.add(Embedding(input_dim=total_words, output_dim=50, input_length=max_sequence_length-1))\n",
        "model.add(SimpleRNN(100, return_sequences=True))\n",
        "model.add(SimpleRNN(100))\n",
        "model.add(Dense(total_words, activation='softmax'))"
      ],
      "metadata": {
        "id": "4Z079d0Vgvoc"
      },
      "execution_count": null,
      "outputs": []
    },
    {
      "cell_type": "code",
      "source": [
        "#compiling the model\n",
        "model.compile(optimizer='adam',loss='categorical_crossentropy',metrics=['accuracy'])"
      ],
      "metadata": {
        "id": "7yLTxe9vhA_z"
      },
      "execution_count": null,
      "outputs": []
    },
    {
      "cell_type": "code",
      "source": [
        "#training the model\n",
        "model.fit(X , y, epochs=50, verbose=2)"
      ],
      "metadata": {
        "id": "oZJkjoj6hCTP"
      },
      "execution_count": null,
      "outputs": []
    }
  ]
}