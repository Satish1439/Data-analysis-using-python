{
  "nbformat": 4,
  "nbformat_minor": 0,
  "metadata": {
    "colab": {
      "provenance": []
    },
    "kernelspec": {
      "name": "python3",
      "display_name": "Python 3"
    },
    "language_info": {
      "name": "python"
    }
  },
  "cells": [
    {
      "cell_type": "markdown",
      "source": [
        "Extratcing HTML code of any website\n",
        "Program flow\n",
        "   1.import libraries\n",
        "   2.save the url\n",
        "   3.Using requests.get(),access the web page\n",
        "   4.Using BeautifulSoup(),access the HTML code\n"
      ],
      "metadata": {
        "id": "gqQpbcB7-Hai"
      }
    },
    {
      "cell_type": "code",
      "source": [
        "from bs4 import BeautifulSoup"
      ],
      "metadata": {
        "id": "-BJk93EG_Pv1"
      },
      "execution_count": null,
      "outputs": []
    },
    {
      "cell_type": "code",
      "source": [
        "import requests as r"
      ],
      "metadata": {
        "id": "x08FYvgc_Z2r"
      },
      "execution_count": null,
      "outputs": []
    },
    {
      "cell_type": "code",
      "source": [
        "ecap=\"https://sves.org.in/ecap/\""
      ],
      "metadata": {
        "id": "aDGwYYa9_rnf"
      },
      "execution_count": null,
      "outputs": []
    },
    {
      "cell_type": "code",
      "source": [
        " page=r.get(ecap)"
      ],
      "metadata": {
        "id": "JppiA58SAuhP"
      },
      "execution_count": null,
      "outputs": []
    },
    {
      "cell_type": "code",
      "source": [
        "code=BeautifulSoup(page.text,'html')\n",
        "print(code)"
      ],
      "metadata": {
        "id": "QwpIG7zaBK66"
      },
      "execution_count": null,
      "outputs": []
    },
    {
      "cell_type": "code",
      "source": [
        "title=code.find('title')\n",
        "title"
      ],
      "metadata": {
        "colab": {
          "base_uri": "https://localhost:8080/"
        },
        "id": "2w8YTzt2C36S",
        "outputId": "384186cb-2540-4908-f322-efa6663f8633"
      },
      "execution_count": null,
      "outputs": [
        {
          "output_type": "execute_result",
          "data": {
            "text/plain": [
              "<title>\n",
              "\tCollege Automation Package\n",
              "</title>"
            ]
          },
          "metadata": {},
          "execution_count": 14
        }
      ]
    },
    {
      "cell_type": "code",
      "source": [
        "print(title.text)"
      ],
      "metadata": {
        "colab": {
          "base_uri": "https://localhost:8080/"
        },
        "id": "QtCFyVx7Eetg",
        "outputId": "2b274626-355c-4262-ec52-6e06c1cf837e"
      },
      "execution_count": null,
      "outputs": [
        {
          "output_type": "stream",
          "name": "stdout",
          "text": [
            "\r\n",
            "\tCollege Automation Package\r\n",
            "\n"
          ]
        }
      ]
    },
    {
      "cell_type": "code",
      "source": [
        " rich=\"https://www.forbesindia.com/article/explainers/top-10-richest-people-india/85909/1\""
      ],
      "metadata": {
        "id": "DTTqJznYFZeA"
      },
      "execution_count": null,
      "outputs": []
    },
    {
      "cell_type": "code",
      "source": [
        " page1=r.get(rich)"
      ],
      "metadata": {
        "id": "BM2lbMBPF4YE"
      },
      "execution_count": null,
      "outputs": []
    },
    {
      "cell_type": "code",
      "source": [
        "code1=BeautifulSoup(page1.text,'html')\n",
        "print(code1)"
      ],
      "metadata": {
        "id": "nzXDP4NBFlmT"
      },
      "execution_count": null,
      "outputs": []
    },
    {
      "cell_type": "code",
      "source": [
        "table=code1.find('table')\n",
        "print(table)"
      ],
      "metadata": {
        "id": "8sjAOFMYIlqO"
      },
      "execution_count": null,
      "outputs": []
    },
    {
      "cell_type": "code",
      "source": [
        "table=code1.find_all('th')\n",
        "print(table)"
      ],
      "metadata": {
        "colab": {
          "base_uri": "https://localhost:8080/"
        },
        "id": "NRxE7-UrJKc-",
        "outputId": "76cd9846-b4a4-431e-d06b-eb90ace2f873"
      },
      "execution_count": null,
      "outputs": [
        {
          "output_type": "stream",
          "name": "stdout",
          "text": [
            "[<th style=\"border: 1px solid black; padding: 8px;\"><strong>Name &amp; India Rank</strong></th>, <th style=\"border: 1px solid black; padding: 8px;\"><strong>Global Rank</strong></th>, <th style=\"border: 1px solid black; padding: 8px;\"><strong>Net worth (US$)</strong></th>, <th style=\"border: 1px solid black; padding: 8px;\"><strong>Company</strong></th>]\n"
          ]
        }
      ]
    },
    {
      "cell_type": "code",
      "source": [
        "Heading=[i.text for i in table]\n",
        "print(Heading)"
      ],
      "metadata": {
        "colab": {
          "base_uri": "https://localhost:8080/"
        },
        "id": "9nFOwbAlKxEl",
        "outputId": "e88f38fa-eb7a-43d2-cb9e-bcbb301ed6ec"
      },
      "execution_count": null,
      "outputs": [
        {
          "output_type": "stream",
          "name": "stdout",
          "text": [
            "['Name & India Rank', 'Global Rank', 'Net worth (US$)', 'Company']\n"
          ]
        }
      ]
    },
    {
      "cell_type": "code",
      "source": [
        "import pandas as pd"
      ],
      "metadata": {
        "id": "_FdjNd6CK8_T"
      },
      "execution_count": null,
      "outputs": []
    },
    {
      "cell_type": "code",
      "source": [
        "mydf=pd.DataFrame(columns=Heading)\n",
        "print(mydf)"
      ],
      "metadata": {
        "colab": {
          "base_uri": "https://localhost:8080/"
        },
        "id": "nhiFXwx4MZ9l",
        "outputId": "65fcc88a-9105-4ae8-c866-19df27d8e06a"
      },
      "execution_count": null,
      "outputs": [
        {
          "output_type": "stream",
          "name": "stdout",
          "text": [
            "Empty DataFrame\n",
            "Columns: [Name & India Rank, Global Rank, Net worth (US$), Company]\n",
            "Index: []\n"
          ]
        }
      ]
    },
    {
      "cell_type": "code",
      "source": [
        "rows=code1.find_all('tr')\n",
        "print(rows)"
      ],
      "metadata": {
        "id": "pAkIGCNmNOKw"
      },
      "execution_count": null,
      "outputs": []
    },
    {
      "cell_type": "code",
      "source": [
        "td=code1.find_all('td')\n",
        "print(td)"
      ],
      "metadata": {
        "colab": {
          "base_uri": "https://localhost:8080/"
        },
        "id": "DSqgcQ_sN3Vd",
        "outputId": "dfb58be3-fb4c-4a78-c35a-0995120212af"
      },
      "execution_count": null,
      "outputs": [
        {
          "output_type": "stream",
          "name": "stdout",
          "text": [
            "[<td style=\"border: 1px solid black; padding: 8px;\">#1 Mukesh Ambani <br/></td>, <td style=\"border: 1px solid black; padding: 8px;\">10</td>, <td style=\"border: 1px solid black; padding: 8px;\">$116.9 B</td>, <td style=\"border: 1px solid black; padding: 8px;\">Reliance Industries</td>, <td style=\"border: 1px solid black; padding: 8px;\">#2 Gautam Adani <br/></td>, <td style=\"border: 1px solid black; padding: 8px;\">16<br/></td>, <td style=\"border: 1px solid black; padding: 8px;\">$86.2 B</td>, <td style=\"border: 1px solid black; padding: 8px;\">Adani Group</td>, <td style=\"border: 1px solid black; padding: 8px;\">#3 Shiv Nadar <br/></td>, <td style=\"border: 1px solid black; padding: 8px;\">37<br/></td>, <td style=\"border: 1px solid black; padding: 8px;\">$36.8 B</td>, <td style=\"border: 1px solid black; padding: 8px;\">HCL Technologies   <br/></td>, <td style=\"border: 1px solid black; padding: 8px;\">#4 Savitri Jindal &amp; family <br/></td>, <td style=\"border: 1px solid black; padding: 8px;\">58<br/></td>, <td style=\"border: 1px solid black; padding: 8px;\">$30.9 B</td>, <td style=\"border: 1px solid black; padding: 8px;\">JSW Group<br/></td>, <td style=\"border: 1px solid black; padding: 8px;\">#5 Dilip Shanghvi <br/></td>, <td style=\"border: 1px solid black; padding: 8px;\">69<br/></td>, <td style=\"border: 1px solid black; padding: 8px;\">$25.7 B</td>, <td style=\"border: 1px solid black; padding: 8px;\">Sun Pharmaceutical Industries Ltd</td>, <td style=\"border: 1px solid black; padding: 8px;\">#6 Cyrus Poonawalla <br/></td>, <td style=\"border: 1px solid black; padding: 8px;\">68<br/></td>, <td style=\"border: 1px solid black; padding: 8px;\">$24.2 B</td>, <td style=\"border: 1px solid black; padding: 8px;\">Serum Institute of India<br/></td>, <td style=\"border: 1px solid black; padding: 8px;\">#7 Kushal Pal Singh<br/></td>, <td style=\"border: 1px solid black; padding: 8px;\">98<br/></td>, <td style=\"border: 1px solid black; padding: 8px;\">$20.6 B</td>, <td style=\"border: 1px solid black; padding: 8px;\">DLF Limited<br/></td>, <td style=\"border: 1px solid black; padding: 8px;\">#8 Kumar Birla <br/></td>, <td style=\"border: 1px solid black; padding: 8px;\">97<br/></td>, <td style=\"border: 1px solid black; padding: 8px;\">$19.5 B</td>, <td style=\"border: 1px solid black; padding: 8px;\">Aditya Birla Group<br/></td>, <td style=\"border: 1px solid black; padding: 8px;\">#9 Ravi Jaipuria<br/></td>, <td style=\"border: 1px solid black; padding: 8px;\">100</td>, <td style=\"border: 1px solid black; padding: 8px;\">$17.4 B</td>, <td style=\"border: 1px solid black; padding: 8px;\">RJ Corp, Varun Beverages <br/></td>, <td style=\"border: 1px solid black; padding: 8px;\">#10 Radhakishan Damani <br/></td>, <td style=\"border: 1px solid black; padding: 8px;\">101<br/></td>, <td style=\"border: 1px solid black; padding: 8px;\">$17.2 B</td>, <td style=\"border: 1px solid black; padding: 8px;\">DMart, Avenue Supermarts</td>]\n"
          ]
        }
      ]
    },
    {
      "cell_type": "code",
      "source": [
        "data_act=[i.text for i in td]\n",
        "print(data_act)"
      ],
      "metadata": {
        "colab": {
          "base_uri": "https://localhost:8080/"
        },
        "id": "_K9gDyndRiMK",
        "outputId": "feb587fd-4e34-4a76-bfa1-9354fa2b4963"
      },
      "execution_count": null,
      "outputs": [
        {
          "output_type": "stream",
          "name": "stdout",
          "text": [
            "['#1 Mukesh Ambani ', '10', '$116.9 B', 'Reliance Industries', '#2 Gautam Adani ', '16', '$86.2 B', 'Adani Group', '#3 Shiv Nadar ', '37', '$36.8 B', 'HCL Technologies\\xa0\\xa0 ', '#4 Savitri Jindal & family ', '58', '$30.9 B', 'JSW Group', '#5 Dilip Shanghvi ', '69', '$25.7 B', 'Sun Pharmaceutical Industries Ltd', '#6 Cyrus Poonawalla ', '68', '$24.2 B', 'Serum Institute of India', '#7 Kushal Pal Singh', '98', '$20.6 B', 'DLF Limited', '#8 Kumar Birla ', '97', '$19.5 B', 'Aditya Birla Group', '#9 Ravi Jaipuria', '100', '$17.4 B', 'RJ Corp, Varun Beverages ', '#10 Radhakishan Damani ', '101', '$17.2 B', 'DMart, Avenue Supermarts']\n"
          ]
        }
      ]
    },
    {
      "cell_type": "code",
      "source": [
        "ind=0\n",
        "st=0\n",
        "stop=4\n",
        "for i in data_act:\n",
        "  if stop<=40:\n",
        "    mydf.loc[ind]=data_act[st:stop]\n",
        "    st=st+4\n",
        "    stop=stop+4\n",
        "    ind=ind+1\n",
        "mydf"
      ],
      "metadata": {
        "colab": {
          "base_uri": "https://localhost:8080/",
          "height": 363
        },
        "id": "DDSJvzNdTrI6",
        "outputId": "6b3bf75e-137b-4513-cc64-eedd5041efbc"
      },
      "execution_count": null,
      "outputs": [
        {
          "output_type": "execute_result",
          "data": {
            "text/plain": [
              "             Name & India Rank Global Rank Net worth (US$)  \\\n",
              "0            #1 Mukesh Ambani           10        $116.9 B   \n",
              "1             #2 Gautam Adani           16         $86.2 B   \n",
              "2               #3 Shiv Nadar           37         $36.8 B   \n",
              "3  #4 Savitri Jindal & family           58         $30.9 B   \n",
              "4           #5 Dilip Shanghvi           69         $25.7 B   \n",
              "5         #6 Cyrus Poonawalla           68         $24.2 B   \n",
              "6          #7 Kushal Pal Singh          98         $20.6 B   \n",
              "7              #8 Kumar Birla           97         $19.5 B   \n",
              "8             #9 Ravi Jaipuria         100         $17.4 B   \n",
              "9      #10 Radhakishan Damani          101         $17.2 B   \n",
              "\n",
              "                             Company  \n",
              "0                Reliance Industries  \n",
              "1                        Adani Group  \n",
              "2                HCL Technologies     \n",
              "3                          JSW Group  \n",
              "4  Sun Pharmaceutical Industries Ltd  \n",
              "5           Serum Institute of India  \n",
              "6                        DLF Limited  \n",
              "7                 Aditya Birla Group  \n",
              "8          RJ Corp, Varun Beverages   \n",
              "9           DMart, Avenue Supermarts  "
            ],
            "text/html": [
              "\n",
              "  <div id=\"df-22a590aa-d5df-4db9-9f5a-402ae82ff9cf\" class=\"colab-df-container\">\n",
              "    <div>\n",
              "<style scoped>\n",
              "    .dataframe tbody tr th:only-of-type {\n",
              "        vertical-align: middle;\n",
              "    }\n",
              "\n",
              "    .dataframe tbody tr th {\n",
              "        vertical-align: top;\n",
              "    }\n",
              "\n",
              "    .dataframe thead th {\n",
              "        text-align: right;\n",
              "    }\n",
              "</style>\n",
              "<table border=\"1\" class=\"dataframe\">\n",
              "  <thead>\n",
              "    <tr style=\"text-align: right;\">\n",
              "      <th></th>\n",
              "      <th>Name &amp; India Rank</th>\n",
              "      <th>Global Rank</th>\n",
              "      <th>Net worth (US$)</th>\n",
              "      <th>Company</th>\n",
              "    </tr>\n",
              "  </thead>\n",
              "  <tbody>\n",
              "    <tr>\n",
              "      <th>0</th>\n",
              "      <td>#1 Mukesh Ambani</td>\n",
              "      <td>10</td>\n",
              "      <td>$116.9 B</td>\n",
              "      <td>Reliance Industries</td>\n",
              "    </tr>\n",
              "    <tr>\n",
              "      <th>1</th>\n",
              "      <td>#2 Gautam Adani</td>\n",
              "      <td>16</td>\n",
              "      <td>$86.2 B</td>\n",
              "      <td>Adani Group</td>\n",
              "    </tr>\n",
              "    <tr>\n",
              "      <th>2</th>\n",
              "      <td>#3 Shiv Nadar</td>\n",
              "      <td>37</td>\n",
              "      <td>$36.8 B</td>\n",
              "      <td>HCL Technologies</td>\n",
              "    </tr>\n",
              "    <tr>\n",
              "      <th>3</th>\n",
              "      <td>#4 Savitri Jindal &amp; family</td>\n",
              "      <td>58</td>\n",
              "      <td>$30.9 B</td>\n",
              "      <td>JSW Group</td>\n",
              "    </tr>\n",
              "    <tr>\n",
              "      <th>4</th>\n",
              "      <td>#5 Dilip Shanghvi</td>\n",
              "      <td>69</td>\n",
              "      <td>$25.7 B</td>\n",
              "      <td>Sun Pharmaceutical Industries Ltd</td>\n",
              "    </tr>\n",
              "    <tr>\n",
              "      <th>5</th>\n",
              "      <td>#6 Cyrus Poonawalla</td>\n",
              "      <td>68</td>\n",
              "      <td>$24.2 B</td>\n",
              "      <td>Serum Institute of India</td>\n",
              "    </tr>\n",
              "    <tr>\n",
              "      <th>6</th>\n",
              "      <td>#7 Kushal Pal Singh</td>\n",
              "      <td>98</td>\n",
              "      <td>$20.6 B</td>\n",
              "      <td>DLF Limited</td>\n",
              "    </tr>\n",
              "    <tr>\n",
              "      <th>7</th>\n",
              "      <td>#8 Kumar Birla</td>\n",
              "      <td>97</td>\n",
              "      <td>$19.5 B</td>\n",
              "      <td>Aditya Birla Group</td>\n",
              "    </tr>\n",
              "    <tr>\n",
              "      <th>8</th>\n",
              "      <td>#9 Ravi Jaipuria</td>\n",
              "      <td>100</td>\n",
              "      <td>$17.4 B</td>\n",
              "      <td>RJ Corp, Varun Beverages</td>\n",
              "    </tr>\n",
              "    <tr>\n",
              "      <th>9</th>\n",
              "      <td>#10 Radhakishan Damani</td>\n",
              "      <td>101</td>\n",
              "      <td>$17.2 B</td>\n",
              "      <td>DMart, Avenue Supermarts</td>\n",
              "    </tr>\n",
              "  </tbody>\n",
              "</table>\n",
              "</div>\n",
              "    <div class=\"colab-df-buttons\">\n",
              "\n",
              "  <div class=\"colab-df-container\">\n",
              "    <button class=\"colab-df-convert\" onclick=\"convertToInteractive('df-22a590aa-d5df-4db9-9f5a-402ae82ff9cf')\"\n",
              "            title=\"Convert this dataframe to an interactive table.\"\n",
              "            style=\"display:none;\">\n",
              "\n",
              "  <svg xmlns=\"http://www.w3.org/2000/svg\" height=\"24px\" viewBox=\"0 -960 960 960\">\n",
              "    <path d=\"M120-120v-720h720v720H120Zm60-500h600v-160H180v160Zm220 220h160v-160H400v160Zm0 220h160v-160H400v160ZM180-400h160v-160H180v160Zm440 0h160v-160H620v160ZM180-180h160v-160H180v160Zm440 0h160v-160H620v160Z\"/>\n",
              "  </svg>\n",
              "    </button>\n",
              "\n",
              "  <style>\n",
              "    .colab-df-container {\n",
              "      display:flex;\n",
              "      gap: 12px;\n",
              "    }\n",
              "\n",
              "    .colab-df-convert {\n",
              "      background-color: #E8F0FE;\n",
              "      border: none;\n",
              "      border-radius: 50%;\n",
              "      cursor: pointer;\n",
              "      display: none;\n",
              "      fill: #1967D2;\n",
              "      height: 32px;\n",
              "      padding: 0 0 0 0;\n",
              "      width: 32px;\n",
              "    }\n",
              "\n",
              "    .colab-df-convert:hover {\n",
              "      background-color: #E2EBFA;\n",
              "      box-shadow: 0px 1px 2px rgba(60, 64, 67, 0.3), 0px 1px 3px 1px rgba(60, 64, 67, 0.15);\n",
              "      fill: #174EA6;\n",
              "    }\n",
              "\n",
              "    .colab-df-buttons div {\n",
              "      margin-bottom: 4px;\n",
              "    }\n",
              "\n",
              "    [theme=dark] .colab-df-convert {\n",
              "      background-color: #3B4455;\n",
              "      fill: #D2E3FC;\n",
              "    }\n",
              "\n",
              "    [theme=dark] .colab-df-convert:hover {\n",
              "      background-color: #434B5C;\n",
              "      box-shadow: 0px 1px 3px 1px rgba(0, 0, 0, 0.15);\n",
              "      filter: drop-shadow(0px 1px 2px rgba(0, 0, 0, 0.3));\n",
              "      fill: #FFFFFF;\n",
              "    }\n",
              "  </style>\n",
              "\n",
              "    <script>\n",
              "      const buttonEl =\n",
              "        document.querySelector('#df-22a590aa-d5df-4db9-9f5a-402ae82ff9cf button.colab-df-convert');\n",
              "      buttonEl.style.display =\n",
              "        google.colab.kernel.accessAllowed ? 'block' : 'none';\n",
              "\n",
              "      async function convertToInteractive(key) {\n",
              "        const element = document.querySelector('#df-22a590aa-d5df-4db9-9f5a-402ae82ff9cf');\n",
              "        const dataTable =\n",
              "          await google.colab.kernel.invokeFunction('convertToInteractive',\n",
              "                                                    [key], {});\n",
              "        if (!dataTable) return;\n",
              "\n",
              "        const docLinkHtml = 'Like what you see? Visit the ' +\n",
              "          '<a target=\"_blank\" href=https://colab.research.google.com/notebooks/data_table.ipynb>data table notebook</a>'\n",
              "          + ' to learn more about interactive tables.';\n",
              "        element.innerHTML = '';\n",
              "        dataTable['output_type'] = 'display_data';\n",
              "        await google.colab.output.renderOutput(dataTable, element);\n",
              "        const docLink = document.createElement('div');\n",
              "        docLink.innerHTML = docLinkHtml;\n",
              "        element.appendChild(docLink);\n",
              "      }\n",
              "    </script>\n",
              "  </div>\n",
              "\n",
              "\n",
              "<div id=\"df-b627758a-ddbb-4a9d-92e9-85bb7177f262\">\n",
              "  <button class=\"colab-df-quickchart\" onclick=\"quickchart('df-b627758a-ddbb-4a9d-92e9-85bb7177f262')\"\n",
              "            title=\"Suggest charts\"\n",
              "            style=\"display:none;\">\n",
              "\n",
              "<svg xmlns=\"http://www.w3.org/2000/svg\" height=\"24px\"viewBox=\"0 0 24 24\"\n",
              "     width=\"24px\">\n",
              "    <g>\n",
              "        <path d=\"M19 3H5c-1.1 0-2 .9-2 2v14c0 1.1.9 2 2 2h14c1.1 0 2-.9 2-2V5c0-1.1-.9-2-2-2zM9 17H7v-7h2v7zm4 0h-2V7h2v10zm4 0h-2v-4h2v4z\"/>\n",
              "    </g>\n",
              "</svg>\n",
              "  </button>\n",
              "\n",
              "<style>\n",
              "  .colab-df-quickchart {\n",
              "      --bg-color: #E8F0FE;\n",
              "      --fill-color: #1967D2;\n",
              "      --hover-bg-color: #E2EBFA;\n",
              "      --hover-fill-color: #174EA6;\n",
              "      --disabled-fill-color: #AAA;\n",
              "      --disabled-bg-color: #DDD;\n",
              "  }\n",
              "\n",
              "  [theme=dark] .colab-df-quickchart {\n",
              "      --bg-color: #3B4455;\n",
              "      --fill-color: #D2E3FC;\n",
              "      --hover-bg-color: #434B5C;\n",
              "      --hover-fill-color: #FFFFFF;\n",
              "      --disabled-bg-color: #3B4455;\n",
              "      --disabled-fill-color: #666;\n",
              "  }\n",
              "\n",
              "  .colab-df-quickchart {\n",
              "    background-color: var(--bg-color);\n",
              "    border: none;\n",
              "    border-radius: 50%;\n",
              "    cursor: pointer;\n",
              "    display: none;\n",
              "    fill: var(--fill-color);\n",
              "    height: 32px;\n",
              "    padding: 0;\n",
              "    width: 32px;\n",
              "  }\n",
              "\n",
              "  .colab-df-quickchart:hover {\n",
              "    background-color: var(--hover-bg-color);\n",
              "    box-shadow: 0 1px 2px rgba(60, 64, 67, 0.3), 0 1px 3px 1px rgba(60, 64, 67, 0.15);\n",
              "    fill: var(--button-hover-fill-color);\n",
              "  }\n",
              "\n",
              "  .colab-df-quickchart-complete:disabled,\n",
              "  .colab-df-quickchart-complete:disabled:hover {\n",
              "    background-color: var(--disabled-bg-color);\n",
              "    fill: var(--disabled-fill-color);\n",
              "    box-shadow: none;\n",
              "  }\n",
              "\n",
              "  .colab-df-spinner {\n",
              "    border: 2px solid var(--fill-color);\n",
              "    border-color: transparent;\n",
              "    border-bottom-color: var(--fill-color);\n",
              "    animation:\n",
              "      spin 1s steps(1) infinite;\n",
              "  }\n",
              "\n",
              "  @keyframes spin {\n",
              "    0% {\n",
              "      border-color: transparent;\n",
              "      border-bottom-color: var(--fill-color);\n",
              "      border-left-color: var(--fill-color);\n",
              "    }\n",
              "    20% {\n",
              "      border-color: transparent;\n",
              "      border-left-color: var(--fill-color);\n",
              "      border-top-color: var(--fill-color);\n",
              "    }\n",
              "    30% {\n",
              "      border-color: transparent;\n",
              "      border-left-color: var(--fill-color);\n",
              "      border-top-color: var(--fill-color);\n",
              "      border-right-color: var(--fill-color);\n",
              "    }\n",
              "    40% {\n",
              "      border-color: transparent;\n",
              "      border-right-color: var(--fill-color);\n",
              "      border-top-color: var(--fill-color);\n",
              "    }\n",
              "    60% {\n",
              "      border-color: transparent;\n",
              "      border-right-color: var(--fill-color);\n",
              "    }\n",
              "    80% {\n",
              "      border-color: transparent;\n",
              "      border-right-color: var(--fill-color);\n",
              "      border-bottom-color: var(--fill-color);\n",
              "    }\n",
              "    90% {\n",
              "      border-color: transparent;\n",
              "      border-bottom-color: var(--fill-color);\n",
              "    }\n",
              "  }\n",
              "</style>\n",
              "\n",
              "  <script>\n",
              "    async function quickchart(key) {\n",
              "      const quickchartButtonEl =\n",
              "        document.querySelector('#' + key + ' button');\n",
              "      quickchartButtonEl.disabled = true;  // To prevent multiple clicks.\n",
              "      quickchartButtonEl.classList.add('colab-df-spinner');\n",
              "      try {\n",
              "        const charts = await google.colab.kernel.invokeFunction(\n",
              "            'suggestCharts', [key], {});\n",
              "      } catch (error) {\n",
              "        console.error('Error during call to suggestCharts:', error);\n",
              "      }\n",
              "      quickchartButtonEl.classList.remove('colab-df-spinner');\n",
              "      quickchartButtonEl.classList.add('colab-df-quickchart-complete');\n",
              "    }\n",
              "    (() => {\n",
              "      let quickchartButtonEl =\n",
              "        document.querySelector('#df-b627758a-ddbb-4a9d-92e9-85bb7177f262 button');\n",
              "      quickchartButtonEl.style.display =\n",
              "        google.colab.kernel.accessAllowed ? 'block' : 'none';\n",
              "    })();\n",
              "  </script>\n",
              "</div>\n",
              "\n",
              "  <div id=\"id_75bfbdb1-8350-43ad-a84c-082aaf4091f1\">\n",
              "    <style>\n",
              "      .colab-df-generate {\n",
              "        background-color: #E8F0FE;\n",
              "        border: none;\n",
              "        border-radius: 50%;\n",
              "        cursor: pointer;\n",
              "        display: none;\n",
              "        fill: #1967D2;\n",
              "        height: 32px;\n",
              "        padding: 0 0 0 0;\n",
              "        width: 32px;\n",
              "      }\n",
              "\n",
              "      .colab-df-generate:hover {\n",
              "        background-color: #E2EBFA;\n",
              "        box-shadow: 0px 1px 2px rgba(60, 64, 67, 0.3), 0px 1px 3px 1px rgba(60, 64, 67, 0.15);\n",
              "        fill: #174EA6;\n",
              "      }\n",
              "\n",
              "      [theme=dark] .colab-df-generate {\n",
              "        background-color: #3B4455;\n",
              "        fill: #D2E3FC;\n",
              "      }\n",
              "\n",
              "      [theme=dark] .colab-df-generate:hover {\n",
              "        background-color: #434B5C;\n",
              "        box-shadow: 0px 1px 3px 1px rgba(0, 0, 0, 0.15);\n",
              "        filter: drop-shadow(0px 1px 2px rgba(0, 0, 0, 0.3));\n",
              "        fill: #FFFFFF;\n",
              "      }\n",
              "    </style>\n",
              "    <button class=\"colab-df-generate\" onclick=\"generateWithVariable('mydf')\"\n",
              "            title=\"Generate code using this dataframe.\"\n",
              "            style=\"display:none;\">\n",
              "\n",
              "  <svg xmlns=\"http://www.w3.org/2000/svg\" height=\"24px\"viewBox=\"0 0 24 24\"\n",
              "       width=\"24px\">\n",
              "    <path d=\"M7,19H8.4L18.45,9,17,7.55,7,17.6ZM5,21V16.75L18.45,3.32a2,2,0,0,1,2.83,0l1.4,1.43a1.91,1.91,0,0,1,.58,1.4,1.91,1.91,0,0,1-.58,1.4L9.25,21ZM18.45,9,17,7.55Zm-12,3A5.31,5.31,0,0,0,4.9,8.1,5.31,5.31,0,0,0,1,6.5,5.31,5.31,0,0,0,4.9,4.9,5.31,5.31,0,0,0,6.5,1,5.31,5.31,0,0,0,8.1,4.9,5.31,5.31,0,0,0,12,6.5,5.46,5.46,0,0,0,6.5,12Z\"/>\n",
              "  </svg>\n",
              "    </button>\n",
              "    <script>\n",
              "      (() => {\n",
              "      const buttonEl =\n",
              "        document.querySelector('#id_75bfbdb1-8350-43ad-a84c-082aaf4091f1 button.colab-df-generate');\n",
              "      buttonEl.style.display =\n",
              "        google.colab.kernel.accessAllowed ? 'block' : 'none';\n",
              "\n",
              "      buttonEl.onclick = () => {\n",
              "        google.colab.notebook.generateWithVariable('mydf');\n",
              "      }\n",
              "      })();\n",
              "    </script>\n",
              "  </div>\n",
              "\n",
              "    </div>\n",
              "  </div>\n"
            ],
            "application/vnd.google.colaboratory.intrinsic+json": {
              "type": "dataframe",
              "variable_name": "mydf",
              "summary": "{\n  \"name\": \"mydf\",\n  \"rows\": 10,\n  \"fields\": [\n    {\n      \"column\": \"Name & India Rank\",\n      \"properties\": {\n        \"dtype\": \"string\",\n        \"num_unique_values\": 10,\n        \"samples\": [\n          \"#9 Ravi Jaipuria\",\n          \"#2 Gautam Adani \",\n          \"#6 Cyrus Poonawalla \"\n        ],\n        \"semantic_type\": \"\",\n        \"description\": \"\"\n      }\n    },\n    {\n      \"column\": \"Global Rank\",\n      \"properties\": {\n        \"dtype\": \"string\",\n        \"num_unique_values\": 10,\n        \"samples\": [\n          \"100\",\n          \"16\",\n          \"68\"\n        ],\n        \"semantic_type\": \"\",\n        \"description\": \"\"\n      }\n    },\n    {\n      \"column\": \"Net worth (US$)\",\n      \"properties\": {\n        \"dtype\": \"string\",\n        \"num_unique_values\": 10,\n        \"samples\": [\n          \"$17.4 B\",\n          \"$86.2 B\",\n          \"$24.2 B\"\n        ],\n        \"semantic_type\": \"\",\n        \"description\": \"\"\n      }\n    },\n    {\n      \"column\": \"Company\",\n      \"properties\": {\n        \"dtype\": \"string\",\n        \"num_unique_values\": 10,\n        \"samples\": [\n          \"RJ Corp, Varun Beverages \",\n          \"Adani Group\",\n          \"Serum Institute of India\"\n        ],\n        \"semantic_type\": \"\",\n        \"description\": \"\"\n      }\n    }\n  ]\n}"
            }
          },
          "metadata": {},
          "execution_count": 51
        }
      ]
    },
    {
      "cell_type": "code",
      "source": [
        "mydf.to_csv('rich.csv')#saving the file\n"
      ],
      "metadata": {
        "id": "s4nGfQ8fa051"
      },
      "execution_count": null,
      "outputs": []
    },
    {
      "cell_type": "code",
      "source": [],
      "metadata": {
        "id": "18qDVINXbCGj"
      },
      "execution_count": null,
      "outputs": []
    }
  ]
}