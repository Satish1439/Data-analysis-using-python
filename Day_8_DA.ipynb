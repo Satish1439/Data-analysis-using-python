{
  "nbformat": 4,
  "nbformat_minor": 0,
  "metadata": {
    "colab": {
      "provenance": []
    },
    "kernelspec": {
      "name": "python3",
      "display_name": "Python 3"
    },
    "language_info": {
      "name": "python"
    }
  },
  "cells": [
    {
      "cell_type": "code",
      "execution_count": null,
      "metadata": {
        "id": "VtXM-eJPfINI"
      },
      "outputs": [],
      "source": [
        "from tensorflow.keras.models import load_model\n",
        "from tensorflow.keras.preprocessing import image\n",
        "import numpy as np"
      ]
    },
    {
      "cell_type": "code",
      "source": [
        "#load the saved model\n",
        "model=load_model('/content/Model.h5')\n",
        "#load and preprocess the test image\n",
        "test_image_path='/content/no1100.jpg'\n",
        "img=image.load_img(test_image_path,target_size=(224,224))\n",
        "img_array=image.img_to_array(img)\n",
        "img_array=np.expand_dims(img_array, axis=0)\n",
        "\n",
        "\n",
        "#Add batch dimension\n",
        "img_array /=255. #Normalize the pixel value\n",
        "#Make prediction\n",
        "prediction=model.predict(img_array)\n",
        "#print the prediction\n",
        "print(prediction)"
      ],
      "metadata": {
        "id": "uzKABjd0kvUH"
      },
      "execution_count": null,
      "outputs": []
    },
    {
      "cell_type": "code",
      "source": [
        "if prediction < 0.5:\n",
        "  print(\"prediction: No tumor (Probability:\",prediction[0][0]))\n",
        "else:\n",
        "  print(\"Prediction: tumor present (Probability:\",prediction[0][0]))"
      ],
      "metadata": {
        "id": "35k06vRQprFW"
      },
      "execution_count": null,
      "outputs": []
    }
  ]
}