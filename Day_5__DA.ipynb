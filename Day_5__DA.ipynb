{
  "nbformat": 4,
  "nbformat_minor": 0,
  "metadata": {
    "colab": {
      "provenance": []
    },
    "kernelspec": {
      "name": "python3",
      "display_name": "Python 3"
    },
    "language_info": {
      "name": "python"
    }
  },
  "cells": [
    {
      "cell_type": "code",
      "execution_count": null,
      "metadata": {
        "colab": {
          "base_uri": "https://localhost:8080/"
        },
        "id": "NDpqgubNUHJw",
        "outputId": "ef955b24-da49-4845-d1b9-bd40be1af015"
      },
      "outputs": [
        {
          "output_type": "execute_result",
          "data": {
            "text/plain": [
              "{'location': {'name': 'Tadepalligudem',\n",
              "  'region': 'Andhra Pradesh',\n",
              "  'country': 'India',\n",
              "  'lat': 16.83,\n",
              "  'lon': 81.5,\n",
              "  'tz_id': 'Asia/Kolkata',\n",
              "  'localtime_epoch': 1709101907,\n",
              "  'localtime': '2024-02-28 12:01'},\n",
              " 'current': {'last_updated_epoch': 1709101800,\n",
              "  'last_updated': '2024-02-28 12:00',\n",
              "  'temp_c': 35.6,\n",
              "  'temp_f': 96.1,\n",
              "  'is_day': 1,\n",
              "  'condition': {'text': 'Sunny',\n",
              "   'icon': '//cdn.weatherapi.com/weather/64x64/day/113.png',\n",
              "   'code': 1000},\n",
              "  'wind_mph': 4.3,\n",
              "  'wind_kph': 6.8,\n",
              "  'wind_degree': 103,\n",
              "  'wind_dir': 'ESE',\n",
              "  'pressure_mb': 1012.0,\n",
              "  'pressure_in': 29.87,\n",
              "  'precip_mm': 0.0,\n",
              "  'precip_in': 0.0,\n",
              "  'humidity': 26,\n",
              "  'cloud': 8,\n",
              "  'feelslike_c': 35.2,\n",
              "  'feelslike_f': 95.4,\n",
              "  'vis_km': 10.0,\n",
              "  'vis_miles': 6.0,\n",
              "  'uv': 9.0,\n",
              "  'gust_mph': 4.9,\n",
              "  'gust_kph': 7.9}}"
            ]
          },
          "metadata": {},
          "execution_count": 15
        }
      ],
      "source": [
        "import requests\n",
        "api='a48485c6eaba4a98b1654232242802'\n",
        "city='Tadepalligudem'\n",
        "url=f\"http://api.weatherapi.com/v1/current.json?key={api}&q={city}\"\n",
        "response= requests.get(url)\n",
        "data=response.json()\n",
        "data\n"
      ]
    },
    {
      "cell_type": "code",
      "source": [
        "type(data)"
      ],
      "metadata": {
        "colab": {
          "base_uri": "https://localhost:8080/"
        },
        "id": "XTa0a_UQUSif",
        "outputId": "5e1ba002-b1a2-4d78-d2fe-bb955585a6f7"
      },
      "execution_count": null,
      "outputs": [
        {
          "output_type": "execute_result",
          "data": {
            "text/plain": [
              "dict"
            ]
          },
          "metadata": {},
          "execution_count": 16
        }
      ]
    },
    {
      "cell_type": "code",
      "source": [
        "data['location']['name']"
      ],
      "metadata": {
        "colab": {
          "base_uri": "https://localhost:8080/",
          "height": 36
        },
        "id": "Hk4QMdh6UaG3",
        "outputId": "469a2938-5810-4f72-ea36-aa61181616d7"
      },
      "execution_count": null,
      "outputs": [
        {
          "output_type": "execute_result",
          "data": {
            "text/plain": [
              "'Tadepalligudem'"
            ],
            "application/vnd.google.colaboratory.intrinsic+json": {
              "type": "string"
            }
          },
          "metadata": {},
          "execution_count": 17
        }
      ]
    },
    {
      "cell_type": "code",
      "source": [
        "import requests\n",
        "api='a48485c6eaba4a98b1654232242802'\n",
        "city=input('Enter city name: ')\n",
        "url=f\"http://api.weatherapi.com/v1/current.json?key={api}&q={city}\"\n",
        "response= requests.get(url)\n",
        "data=response.json()\n",
        "print(data)\n",
        "if data['error']['code'] == 1006:\n",
        "  print(\"Location not found\")\n",
        "else:\n",
        "\n",
        "#printing\n",
        "   print(\"City : \",data['location']['name'])\n",
        "   print(\"state : \",data['location']['region'])\n",
        "   print(\"Contry : \",data['location']['country'])\n",
        "   print(\"Feels like in c: \",data['current']['feelslike_c'])\n",
        "   print(\"Temperature in celsius: \",data['current']['temp_c'])\n",
        "   print(\"Wind speed in mph : \",data['current']['wind_mph'])\n",
        "   print(\"Humidity : \",data['current']['humidity'])"
      ],
      "metadata": {
        "colab": {
          "base_uri": "https://localhost:8080/"
        },
        "id": "iN8LHiwaUjJ4",
        "outputId": "6783f5b1-e758-4ec5-bba6-00ee81206609"
      },
      "execution_count": null,
      "outputs": [
        {
          "output_type": "stream",
          "name": "stdout",
          "text": [
            "Enter city name: meenavilluru\n",
            "{'error': {'code': 1006, 'message': 'No matching location found.'}}\n",
            "Location not found\n"
          ]
        }
      ]
    },
    {
      "cell_type": "code",
      "source": [
        "import requests\n",
        "api='a48485c6eaba4a98b1654232242802'\n",
        "city=input('Enter city name: ')\n",
        "url=f\"http://api.weatherapi.com/v1/current.json?key={api}&q={city}\"\n",
        "response= requests.get(url)\n",
        "data=response.json()\n",
        "print(data)\n",
        "if data['error']['code'] == 1006:\n",
        "  print(\"Location not found\")\n",
        "elif data['error']['code']==2006:\n",
        "  print(data['error']['message'])\n",
        "else:\n",
        "\n",
        "\n",
        "#printing\n",
        "   print(\"City : \",data['location']['name'])\n",
        "   print(\"state : \",data['location']['region'])\n",
        "   print(\"Contry : \",data['location']['country'])\n",
        "   print(\"Feels like in c: \",data['current']['feelslike_c'])\n",
        "   print(\"Temperature in celsius: \",data['current']['temp_c'])\n",
        "   print(\"Wind speed in mph : \",data['current']['wind_mph'])\n",
        "   print(\"Humidity : \",data['current']['humidity'])"
      ],
      "metadata": {
        "id": "AQnhIwV3a2Ks"
      },
      "execution_count": null,
      "outputs": []
    }
  ]
}